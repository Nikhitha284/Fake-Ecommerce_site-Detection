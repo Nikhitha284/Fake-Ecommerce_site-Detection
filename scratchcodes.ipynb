{
 "cells": [
  {
   "cell_type": "code",
   "execution_count": 1,
   "id": "daca7da2-9851-4324-8d5e-37814512113d",
   "metadata": {},
   "outputs": [],
   "source": [
    "from cleaning import data_new, X_train, X_test, y_train, y_test, pd,np"
   ]
  },
  {
   "cell_type": "code",
   "execution_count": 7,
   "id": "979e7737-397a-4608-a282-724581a37a22",
   "metadata": {},
   "outputs": [
    {
     "name": "stdout",
     "output_type": "stream",
     "text": [
      "Naive Bayes Model :\n",
      "Accuracy of scratch code : 0.4090909090909091\n",
      "Accuracy of in-built model: 0.4380165289256198\n"
     ]
    },
    {
     "name": "stderr",
     "output_type": "stream",
     "text": [
      "/home/harsha/.local/lib/python3.10/site-packages/sklearn/impute/_base.py:577: UserWarning: Skipping features without any observed values: ['civilityTitle']. At least one non-missing value is needed for imputation with strategy='mean'.\n",
      "  warnings.warn(\n",
      "/home/harsha/.local/lib/python3.10/site-packages/sklearn/impute/_base.py:577: UserWarning: Skipping features without any observed values: ['civilityTitle']. At least one non-missing value is needed for imputation with strategy='mean'.\n",
      "  warnings.warn(\n"
     ]
    }
   ],
   "source": [
    "from sklearn.impute import SimpleImputer\n",
    "from sklearn.naive_bayes import GaussianNB\n",
    "from sklearn.metrics import accuracy_score, classification_report\n",
    "from nb import NaiveBayesClassifier\n",
    "# Instantiate the classifier\n",
    "nb_classifier = NaiveBayesClassifier()\n",
    "print('Naive Bayes Model :')\n",
    "# Train the classifier\n",
    "nb_classifier.fit(X_train, y_train)\n",
    "\n",
    "# Make predictions on the test set\n",
    "predictions = nb_classifier.predict(X_test)\n",
    "\n",
    "# Evaluate the accuracy of the classifier\n",
    "accuracy = np.mean(predictions == y_test)\n",
    "print(\"Accuracy of scratch code :\", accuracy)\n",
    "# Create SimpleImputer with mean strategy to fill missing values\n",
    "imputer = SimpleImputer(strategy='mean')\n",
    "\n",
    "# Fit the imputer on the training data and transform the training data\n",
    "X_train_imputed = imputer.fit_transform(X_train)\n",
    "\n",
    "# Transform the test data using the same imputer\n",
    "X_test_imputed = imputer.transform(X_test)\n",
    "\n",
    "# Create a Gaussian Naive Bayes classifier\n",
    "gnb = GaussianNB()\n",
    "\n",
    "# Fit the classifier on the imputed training data\n",
    "gnb.fit(X_train_imputed, y_train)\n",
    "\n",
    "# Make predictions on the imputed test data\n",
    "y_pred = gnb.predict(X_test_imputed)\n",
    "\n",
    "# Calculate accuracy\n",
    "accuracy = accuracy_score(y_test, y_pred)\n",
    "print(\"Accuracy of in-built model:\", accuracy)\n"
   ]
  },
  {
   "cell_type": "code",
   "execution_count": 8,
   "id": "0643b0fa-85f5-4769-9873-867cebe5066a",
   "metadata": {},
   "outputs": [
    {
     "name": "stdout",
     "output_type": "stream",
     "text": [
      "Random Forest Model: \n",
      "Accuracy of scratch code : 0.6115702479338843\n",
      "Accuracy of in-built model: 0.743801652892562\n"
     ]
    }
   ],
   "source": [
    "from random_forest import RandomForest\n",
    "from cleaning import data_new, X_train, X_test, y_train, y_test\n",
    "from sklearn.model_selection import train_test_split\n",
    "from sklearn.ensemble import RandomForestClassifier\n",
    "import numpy as np\n",
    "print('Random Forest Model: ')\n",
    "def accuracy(y_true, y_pred):\n",
    "    accuracy = np.sum(y_true == y_pred) / len(y_true)\n",
    "    return accuracy\n",
    "\n",
    "clf = RandomForest()\n",
    "clf.fit(X_train, y_train)\n",
    "predictions = clf.predict(X_test)\n",
    "\n",
    "acc = accuracy(y_test, predictions)\n",
    "print(\"Accuracy of scratch code :\", acc)\n",
    "clf = RandomForestClassifier(n_estimators = 100) \n",
    "\n",
    "# Training the model on the training dataset\n",
    "# fit function is used to train the model using the training sets as parameters\n",
    "clf.fit(X_train, y_train)\n",
    "\n",
    "# performing predictions on the test dataset\n",
    "y_pred = clf.predict(X_test)\n",
    "accuracy = accuracy_score(y_test, y_pred)\n",
    "print(\"Accuracy of in-built model:\", accuracy)\n"
   ]
  },
  {
   "cell_type": "code",
   "execution_count": 18,
   "id": "ea09b2f2-5016-4a5e-b2a3-48d9a1e13448",
   "metadata": {},
   "outputs": [
    {
     "name": "stdout",
     "output_type": "stream",
     "text": [
      "Accuracy of in-built model: 0.5619834710743802\n"
     ]
    }
   ],
   "source": [
    "import numpy as np\n",
    "\n",
    "class LogisticRegression:\n",
    "    def __init__(self, learning_rate=0.01, num_iterations=1000):\n",
    "        self.learning_rate = learning_rate\n",
    "        self.num_iterations = num_iterations\n",
    "        self.weights = None\n",
    "        self.bias = None\n",
    "    \n",
    "    def sigmoid(self, z):\n",
    "        return 1 / (1 + np.exp(-z))\n",
    "    \n",
    "    def fit(self, X, y):\n",
    "        m, n = X.shape\n",
    "        self.weights = np.zeros(n)\n",
    "        self.bias = 0\n",
    "        \n",
    "        # Gradient Descent\n",
    "        for _ in range(self.num_iterations):\n",
    "            # Forward propagation\n",
    "            z = np.dot(X, self.weights) + self.bias\n",
    "            y_pred = self.sigmoid(z)\n",
    "            \n",
    "            # Compute gradients\n",
    "            dw = (1 / m) * np.dot(X.T, (y_pred - y))\n",
    "            db = (1 / m) * np.sum(y_pred - y)\n",
    "            \n",
    "            # Update parameters\n",
    "            self.weights -= self.learning_rate * dw\n",
    "            self.bias -= self.learning_rate * db\n",
    "    \n",
    "    def predict(self, X):\n",
    "    # Compute linear combination\n",
    "        z = np.dot(X, self.weights) + self.bias\n",
    "        \n",
    "        # Compute probabilities using sigmoid function\n",
    "        y_pred = self.sigmoid(z)\n",
    "        \n",
    "        # Convert probabilities to binary outcomes (0 or 1) using threshold 0.5\n",
    "        y_pred_binary = (y_pred >= 0.5).astype(int)\n",
    "        \n",
    "        # Handle NaN values in predictions (although there should be none)\n",
    "        y_pred_binary = np.nan_to_num(y_pred_binary)\n",
    "        \n",
    "        return y_pred_binary\n",
    "\n",
    "model = LogisticRegression(learning_rate=0.1, num_iterations=1000)\n",
    "model.fit(X_train, y_train)\n",
    "\n",
    "# Predict on test set\n",
    "y_pred = model.predict(X_test)\n",
    "accuracy = accuracy_score(y_test, y_pred)\n",
    "print(\"Accuracy of in-built model:\", accuracy)"
   ]
  },
  {
   "cell_type": "code",
   "execution_count": null,
   "id": "d9db5e1f-f091-4dbc-be22-06af53a4aabb",
   "metadata": {},
   "outputs": [],
   "source": []
  }
 ],
 "metadata": {
  "kernelspec": {
   "display_name": "Python 3 (ipykernel)",
   "language": "python",
   "name": "python3"
  },
  "language_info": {
   "codemirror_mode": {
    "name": "ipython",
    "version": 3
   },
   "file_extension": ".py",
   "mimetype": "text/x-python",
   "name": "python",
   "nbconvert_exporter": "python",
   "pygments_lexer": "ipython3",
   "version": "3.10.12"
  }
 },
 "nbformat": 4,
 "nbformat_minor": 5
}
