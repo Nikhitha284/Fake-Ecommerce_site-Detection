{
 "cells": [
  {
   "cell_type": "code",
   "execution_count": 1,
   "id": "daca7da2-9851-4324-8d5e-37814512113d",
   "metadata": {},
   "outputs": [],
   "source": [
    "from cleaning import data_new, X_train, X_test, y_train, y_test, pd,np"
   ]
  },
  {
   "cell_type": "code",
   "execution_count": 2,
   "id": "979e7737-397a-4608-a282-724581a37a22",
   "metadata": {},
   "outputs": [
    {
     "name": "stdout",
     "output_type": "stream",
     "text": [
      "Naive Bayes Model :\n",
      "Accuracy of scratch code : 0.4090909090909091\n",
      "Accuracy of in-built model: 0.4380165289256198\n"
     ]
    }
   ],
   "source": [
    "from sklearn.impute import SimpleImputer\n",
    "from sklearn.naive_bayes import GaussianNB\n",
    "from sklearn.metrics import accuracy_score, classification_report\n",
    "from nb import NaiveBayesClassifier\n",
    "# Instantiate the classifier\n",
    "nb_classifier = NaiveBayesClassifier()\n",
    "print('Naive Bayes Model :')\n",
    "# Train the classifier\n",
    "nb_classifier.fit(X_train, y_train)\n",
    "\n",
    "# Make predictions on the test set\n",
    "predictions = nb_classifier.predict(X_test)\n",
    "\n",
    "# Evaluate the accuracy of the classifier\n",
    "accuracy = np.mean(predictions == y_test)\n",
    "print(\"Accuracy of scratch code :\", accuracy)\n",
    "# Create SimpleImputer with mean strategy to fill missing values\n",
    "imputer = SimpleImputer(strategy='mean')\n",
    "\n",
    "# Fit the imputer on the training data and transform the training data\n",
    "X_train_imputed = imputer.fit_transform(X_train)\n",
    "\n",
    "# Transform the test data using the same imputer\n",
    "X_test_imputed = imputer.transform(X_test)\n",
    "\n",
    "# Create a Gaussian Naive Bayes classifier\n",
    "gnb = GaussianNB()\n",
    "\n",
    "# Fit the classifier on the imputed training data\n",
    "gnb.fit(X_train_imputed, y_train)\n",
    "\n",
    "# Make predictions on the imputed test data\n",
    "y_pred = gnb.predict(X_test_imputed)\n",
    "\n",
    "# Calculate accuracy\n",
    "accuracy = accuracy_score(y_test, y_pred)\n",
    "print(\"Accuracy of in-built model:\", accuracy)\n"
   ]
  },
  {
   "cell_type": "code",
   "execution_count": 3,
   "id": "0643b0fa-85f5-4769-9873-867cebe5066a",
   "metadata": {},
   "outputs": [
    {
     "name": "stdout",
     "output_type": "stream",
     "text": [
      "Random Forest Model: \n",
      "Accuracy of scratch code : 0.6198347107438017\n",
      "Accuracy of in-built model: 0.7479338842975206\n"
     ]
    }
   ],
   "source": [
    "from random_forest import RandomForest\n",
    "from cleaning import data_new, X_train, X_test, y_train, y_test\n",
    "from sklearn.model_selection import train_test_split\n",
    "from sklearn.ensemble import RandomForestClassifier\n",
    "import numpy as np\n",
    "print('Random Forest Model: ')\n",
    "def accuracy(y_true, y_pred):\n",
    "    accuracy = np.sum(y_true == y_pred) / len(y_true)\n",
    "    return accuracy\n",
    "\n",
    "clf = RandomForest()\n",
    "clf.fit(X_train, y_train)\n",
    "predictions = clf.predict(X_test)\n",
    "\n",
    "acc = accuracy(y_test, predictions)\n",
    "print(\"Accuracy of scratch code :\", acc)\n",
    "clf = RandomForestClassifier(n_estimators = 100) \n",
    "\n",
    "# Training the model on the training dataset\n",
    "# fit function is used to train the model using the training sets as parameters\n",
    "clf.fit(X_train, y_train)\n",
    "\n",
    "# performing predictions on the test dataset\n",
    "y_pred = clf.predict(X_test)\n",
    "accuracy = accuracy_score(y_test, y_pred)\n",
    "print(\"Accuracy of in-built model:\", accuracy)\n"
   ]
  },
  {
   "cell_type": "code",
   "execution_count": 4,
   "id": "ea09b2f2-5016-4a5e-b2a3-48d9a1e13448",
   "metadata": {},
   "outputs": [
    {
     "name": "stdout",
     "output_type": "stream",
     "text": [
      "Logistic Regression: \n",
      "Accuracy of the scratch code: 0.5702479338842975\n",
      "Accuracy of the in-built code: 0.5867768595041323\n"
     ]
    }
   ],
   "source": [
    "from sklearn.preprocessing import StandardScaler\n",
    "from logregression import LogisticRegressionModel\n",
    "from sklearn.linear_model import LogisticRegression\n",
    "\n",
    "\n",
    "scaler = StandardScaler()\n",
    "X_train_scaled = scaler.fit_transform(X_train)\n",
    "X_test_scaled = scaler.transform(X_test)\n",
    "print('Logistic Regression: ')\n",
    "# Create an instance of the LogisticRegression class and train the model\n",
    "model = LogisticRegressionModel(learning_rate=0.1, num_iterations=10)\n",
    "model.fit(X_train_scaled, y_train)\n",
    "\n",
    "# Predict on the test set\n",
    "y_pred = model.predict(X_test_scaled)\n",
    "\n",
    "# Calculate accuracy\n",
    "accuracy = accuracy_score(y_test, y_pred)\n",
    "print(\"Accuracy of the scratch code:\", accuracy)\n",
    "mod= LogisticRegression()\n",
    "mod.fit(X_train_scaled, y_train)\n",
    "\n",
    "# Predict on the test set\n",
    "pred = mod.predict(X_test_scaled)\n",
    "\n",
    "# Calculate accuracy\n",
    "acc = accuracy_score(y_test, pred)\n",
    "print(\"Accuracy of the in-built code:\", acc)"
   ]
  },
  {
   "cell_type": "code",
   "execution_count": 5,
   "id": "d9db5e1f-f091-4dbc-be22-06af53a4aabb",
   "metadata": {},
   "outputs": [
    {
     "name": "stdout",
     "output_type": "stream",
     "text": [
      "KNN Model: \n",
      "Accuracy of scratch code : 0.6074380165289256\n",
      "Accuracy of in-built model: 0.6694214876033058\n"
     ]
    }
   ],
   "source": [
    "import numpy as np\n",
    "from sklearn.preprocessing import StandardScaler\n",
    "\n",
    "from sklearn.metrics import accuracy_score\n",
    "from sklearn.neighbors import KNeighborsClassifier\n",
    "from KNN import KNN\n",
    "\n",
    "# Assuming X_train, y_train, X_test, and y_test are already defined\n",
    "# Standardize the data\n",
    "scaler = StandardScaler()\n",
    "X_train_scaled = scaler.fit_transform(X_train)\n",
    "X_test_scaled = scaler.transform(X_test)\n",
    "print('KNN Model: ')\n",
    "# Create an instance of the KNN model with k=3\n",
    "knn = KNN(k=5)\n",
    "\n",
    "# Fit the model with the training data\n",
    "knn.fit(X_train_scaled, y_train)\n",
    "\n",
    "# Predict on the test data\n",
    "y_pred = knn.predict(X_test_scaled)\n",
    "\n",
    "# Calculate the accuracy of the model\n",
    "accuracy = knn.accuracy(y_test, y_pred)\n",
    "print(\"Accuracy of scratch code :\", accuracy)\n",
    "knn_model = KNeighborsClassifier(n_neighbors=2)\n",
    "\n",
    "# Fit the model with the training data\n",
    "knn_model.fit(X_train_scaled, y_train)\n",
    "\n",
    "# Make predictions on the test data\n",
    "pred = knn_model.predict(X_test_scaled)\n",
    "\n",
    "# Calculate the accuracy of the model\n",
    "acc = accuracy_score(y_test, pred)\n",
    "print(\"Accuracy of in-built model:\", acc)"
   ]
  },
  {
   "cell_type": "code",
   "execution_count": null,
   "id": "d20768ff-e781-4e67-b2c9-38f4e37d2acf",
   "metadata": {},
   "outputs": [],
   "source": []
  }
 ],
 "metadata": {
  "kernelspec": {
   "display_name": "Python 3 (ipykernel)",
   "language": "python",
   "name": "python3"
  },
  "language_info": {
   "codemirror_mode": {
    "name": "ipython",
    "version": 3
   },
   "file_extension": ".py",
   "mimetype": "text/x-python",
   "name": "python",
   "nbconvert_exporter": "python",
   "pygments_lexer": "ipython3",
   "version": "3.10.12"
  }
 },
 "nbformat": 4,
 "nbformat_minor": 5
}
