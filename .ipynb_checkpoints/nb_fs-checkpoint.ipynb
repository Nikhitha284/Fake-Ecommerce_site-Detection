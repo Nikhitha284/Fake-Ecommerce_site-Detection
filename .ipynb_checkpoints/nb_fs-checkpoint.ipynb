{
 "cells": [
  {
   "cell_type": "code",
   "execution_count": 3,
   "id": "04a36751-46e5-48d5-95ab-ccb846b1d5e3",
   "metadata": {},
   "outputs": [],
   "source": [
    "from cleaning import data_new, X_train, X_test, y_train, y_test,X,y,np,pd"
   ]
  },
  {
   "cell_type": "code",
   "execution_count": 9,
   "id": "52fa15a4-4775-427f-9038-8db02234be20",
   "metadata": {
    "scrolled": true
   },
   "outputs": [
    {
     "name": "stdout",
     "output_type": "stream",
     "text": [
      "Mutual Information - Naive Bayes Model\n",
      "Accuracy: 0.4256198347107438\n"
     ]
    }
   ],
   "source": [
    "from sklearn.feature_selection import SelectKBest, mutual_info_classif\n",
    "from nb import NaiveBayesClassifier\n",
    "from sklearn.metrics import accuracy_score\n",
    "\n",
    "# Apply preprocessing\n",
    "X_train_transformed = preprocessor.fit_transform(X_train)\n",
    "X_test_transformed = preprocessor.transform(X_test)\n",
    "# Ensure `y_train` and `y_test` are integer arrays\n",
    "y_train = y_train.astype(int)\n",
    "y_test = y_test.astype(int)\n",
    "\n",
    "# Define mutual information selector\n",
    "k_best = SelectKBest(score_func=mutual_info_classif, k='all')  # You can adjust 'k' as needed\n",
    "\n",
    "# Fit and transform training data using transformed X_train\n",
    "X_train_selected = k_best.fit_transform(X_train_transformed, y_train)\n",
    "\n",
    "# Transform test data using the fitted selector on transformed X_test\n",
    "X_test_selected = k_best.transform(X_test_transformed)\n",
    "\n",
    "\n",
    "# Train Naive Bayes model\n",
    "model = NaiveBayesClassifier()\n",
    "model.fit(X_train_selected, y_train)\n",
    "\n",
    "# Make predictions\n",
    "y_pred = model.predict(X_test_selected)\n",
    "\n",
    "# Calculate accuracy and print classification report\n",
    "accuracy = accuracy_score(y_test, y_pred)\n",
    "print(\"Mutual Information - Naive Bayes Model\")\n",
    "print(\"Accuracy:\", accuracy)\n",
    "\n"
   ]
  },
  {
   "cell_type": "code",
   "execution_count": null,
   "id": "ffc6e3f7-2282-4a63-907d-5500e981c028",
   "metadata": {},
   "outputs": [],
   "source": []
  }
 ],
 "metadata": {
  "kernelspec": {
   "display_name": "Python 3 (ipykernel)",
   "language": "python",
   "name": "python3"
  },
  "language_info": {
   "codemirror_mode": {
    "name": "ipython",
    "version": 3
   },
   "file_extension": ".py",
   "mimetype": "text/x-python",
   "name": "python",
   "nbconvert_exporter": "python",
   "pygments_lexer": "ipython3",
   "version": "3.10.12"
  }
 },
 "nbformat": 4,
 "nbformat_minor": 5
}
