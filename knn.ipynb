{
 "cells": [
  {
   "cell_type": "code",
   "execution_count": 1,
   "id": "22b2b60f-098d-45e6-a538-c2ea33339ecb",
   "metadata": {},
   "outputs": [],
   "source": [
    "from cleaning import data_new, X_train, X_test, y_train, y_test"
   ]
  },
  {
   "cell_type": "code",
   "execution_count": 8,
   "id": "8225e920",
   "metadata": {},
   "outputs": [],
   "source": [
    "class KNN:\n",
    "    def __init__(self, k):\n",
    "        self.k = k\n",
    "\n",
    "    def fit(self, X_train, y_train):\n",
    "        self.X_train = X_train\n",
    "        self.y_train = y_train\n",
    "\n",
    "    def predict(self, X_test):\n",
    "        m = self.X_train.shape[0]\n",
    "        n = X_test.shape[0]\n",
    "        y_pred = []\n",
    "\n",
    "        # Calculating distances\n",
    "        for i in range(n):  # for every sample in X_test\n",
    "            distance = []  # To store the distances\n",
    "            for j in range(m):  # for every sample in X_train\n",
    "    # Euclidean distance\n",
    "              d = (np.sqrt(np.sum(np.square(X_test.iloc[i, :] - self.X_train.iloc[j, :]))))\n",
    "              distance.append((d, self.y_train[j]))\n",
    "\n",
    "            distance = sorted(distance)  # sorting distances in ascending order\n",
    "\n",
    "            neighbors = []\n",
    "            for item in range(self.k):\n",
    "                # appending K nearest neighbors\n",
    "                neighbors.append(distance[item][1])\n",
    "\n",
    "            # Making predictions\n",
    "                        # Making predictions\n",
    "            if neighbors:  # Check if neighbors is not empty\n",
    "                mode_result = stats.mode(neighbors)\n",
    "                mode_value = mode_result.mode  # Get the mode value directly\n",
    "    \n",
    "               # Append the mode value to y_pred\n",
    "                y_pred.append(mode_value)\n",
    "            else:\n",
    "    # Handle case where neighbors is empty\n",
    "    # You can choose to handle this case differently based on your requirements\n",
    "                 y_pred.append(None)  # Append None or any other suitable value\n",
    "\n",
    "        return y_pred"
   ]
  },
  {
   "cell_type": "code",
   "execution_count": 9,
   "id": "e633ccd7",
   "metadata": {},
   "outputs": [],
   "source": [
    "knn = KNN(k=5)"
   ]
  },
  {
   "cell_type": "code",
   "execution_count": 10,
   "id": "9cd6e2af",
   "metadata": {},
   "outputs": [],
   "source": [
    "knn.fit(X_train, y_train)"
   ]
  },
  {
   "cell_type": "code",
   "execution_count": null,
   "id": "f161898f",
   "metadata": {},
   "outputs": [
    {
     "name": "stderr",
     "output_type": "stream",
     "text": [
      "C:\\Users\\nikhitha\\AppData\\Local\\Temp\\ipykernel_15356\\1991456180.py:32: FutureWarning: Unlike other reduction functions (e.g. `skew`, `kurtosis`), the default behavior of `mode` typically preserves the axis it acts along. In SciPy 1.11.0, this behavior will change: the default value of `keepdims` will become False, the `axis` over which the statistic is taken will be eliminated, and the value None will no longer be accepted. Set `keepdims` to True or False to avoid this warning.\n",
      "  mode_result = stats.mode(neighbors)\n"
     ]
    }
   ],
   "source": [
    "y_pred = knn.predict(X_test)"
   ]
  },
  {
   "cell_type": "code",
   "execution_count": null,
   "id": "57a7fc46",
   "metadata": {},
   "outputs": [],
   "source": [
    "import numpy as np\n",
    "from scipy import stats\n",
    "import matplotlib.pyplot as plt\n",
    "import seaborn as sns\n",
    "from sklearn.datasets import load_iris\n",
    "from sklearn.model_selection import train_test_split\n",
    "from sklearn.preprocessing import StandardScaler\n",
    "from sklearn.neighbors import KNeighborsClassifier\n",
    "from sklearn.metrics import accuracy_score, confusion_matrix, classification_report"
   ]
  },
  {
   "cell_type": "code",
   "execution_count": null,
   "id": "9ed2a788",
   "metadata": {},
   "outputs": [],
   "source": [
    "knn= KNeighborsClassifier(n_neighbors=5)\n",
    "\n",
    "# Fitting the data\n",
    "knn.fit(X_train,y_train)\n",
    "\n",
    "pred = knn.predict(X_test)\n",
    "# Model evaluation\n",
    "print(\"Accuracy using KNN library: \", 100*np.round(accuracy_score(pred,y_test), 5), \"%\")\n",
    "print(\"Accuracy using code from scratch: \", 100*np.round(accuracy_score(y_pred,y_test), 5), \"%\")"
   ]
  },
  {
   "cell_type": "code",
   "execution_count": null,
   "id": "9cef7432",
   "metadata": {},
   "outputs": [],
   "source": [
    "from sklearn.metrics import recall_score\n",
    "recall = recall_score(y_test, y_pred,pos_label=1)\n",
    "print(recall)"
   ]
  },
  {
   "cell_type": "code",
   "execution_count": null,
   "id": "07435256",
   "metadata": {},
   "outputs": [],
   "source": [
    "length = len(y_pred)\n",
    "print(length)"
   ]
  },
  {
   "cell_type": "code",
   "execution_count": null,
   "id": "8e7f22d6",
   "metadata": {},
   "outputs": [],
   "source": []
  }
 ],
 "metadata": {
  "kernelspec": {
   "display_name": "Python 3 (ipykernel)",
   "language": "python",
   "name": "python3"
  },
  "language_info": {
   "codemirror_mode": {
    "name": "ipython",
    "version": 3
   },
   "file_extension": ".py",
   "mimetype": "text/x-python",
   "name": "python",
   "nbconvert_exporter": "python",
   "pygments_lexer": "ipython3",
   "version": "3.10.8"
  }
 },
 "nbformat": 4,
 "nbformat_minor": 5
}
