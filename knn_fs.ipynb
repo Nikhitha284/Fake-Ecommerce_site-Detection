{
 "cells": [
  {
   "cell_type": "code",
   "execution_count": 1,
   "id": "387c9b8b-b57e-4d5c-964b-13722765afbc",
   "metadata": {},
   "outputs": [],
   "source": [
    "from cleaning import data_new, X_train, X_test, y_train, y_test"
   ]
  },
  {
   "cell_type": "code",
   "execution_count": 4,
   "id": "f1c914b3-7d28-498c-b23f-1b0561b31fa6",
   "metadata": {},
   "outputs": [
    {
     "name": "stdout",
     "output_type": "stream",
     "text": [
      "KNN Model (Mutual Information Feature Selection)\n",
      "Accuracy: 0.5702479338842975\n",
      "              precision    recall  f1-score   support\n",
      "\n",
      "           0       0.57      0.99      0.72       136\n",
      "           1       0.75      0.03      0.05       106\n",
      "\n",
      "    accuracy                           0.57       242\n",
      "   macro avg       0.66      0.51      0.39       242\n",
      "weighted avg       0.65      0.57      0.43       242\n",
      "\n"
     ]
    }
   ],
   "source": [
    "import numpy as np\n",
    "from sklearn.model_selection import train_test_split\n",
    "from sklearn.feature_selection import SelectKBest, mutual_info_classif\n",
    "from sklearn.preprocessing import StandardScaler, OneHotEncoder, LabelEncoder\n",
    "from sklearn.compose import ColumnTransformer\n",
    "from sklearn.pipeline import Pipeline\n",
    "from sklearn.neighbors import KNeighborsClassifier\n",
    "from sklearn.metrics import accuracy_score, classification_report\n",
    "\n",
    "# Assuming X and y are your data\n",
    "# X, y = ...\n",
    "\n",
    "# Split the data into training and testing sets\n",
    "X_train, X_test, y_train, y_test = train_test_split(X, y, test_size=0.2, random_state=42)\n",
    "\n",
    "# Define categorical and numerical columns\n",
    "categorical_cols = X_train.select_dtypes(include='object').columns\n",
    "numerical_cols = X_train.select_dtypes(include=np.number).columns\n",
    "\n",
    "# Define preprocessing pipelines\n",
    "categorical_transformer = Pipeline([\n",
    "    ('onehot', OneHotEncoder(handle_unknown='ignore'))\n",
    "])\n",
    "\n",
    "numerical_transformer = Pipeline([\n",
    "    ('scaler', StandardScaler())\n",
    "])\n",
    "\n",
    "# Combine preprocessors using ColumnTransformer\n",
    "preprocessor = ColumnTransformer([\n",
    "    ('cat', categorical_transformer, categorical_cols),\n",
    "    ('num', numerical_transformer, numerical_cols)\n",
    "])\n",
    "\n",
    "# Apply preprocessing\n",
    "X_train_transformed = preprocessor.fit_transform(X_train)\n",
    "X_test_transformed = preprocessor.transform(X_test)\n",
    "\n",
    "# Convert y_train and y_test to integers using LabelEncoder\n",
    "label_encoder = LabelEncoder()\n",
    "y_train = label_encoder.fit_transform(y_train)\n",
    "y_test = label_encoder.transform(y_test)\n",
    "\n",
    "# Define mutual information selector\n",
    "k_best = SelectKBest(score_func=mutual_info_classif, k=10)  # Adjust k as needed\n",
    "\n",
    "# Fit and transform the training data\n",
    "X_train_selected = k_best.fit_transform(X_train_transformed, y_train)\n",
    "X_test_selected = k_best.transform(X_test_transformed)\n",
    "\n",
    "# Train KNN model\n",
    "knn_model = KNeighborsClassifier()\n",
    "knn_model.fit(X_train_selected, y_train)\n",
    "\n",
    "# Predict on test data\n",
    "y_pred = knn_model.predict(X_test_selected)\n",
    "\n",
    "# Calculate accuracy and print classification report\n",
    "accuracy = accuracy_score(y_test, y_pred)\n",
    "print(\"KNN Model (Mutual Information Feature Selection)\")\n",
    "print(\"Accuracy:\", accuracy)\n",
    "print(classification_report(y_test, y_pred))\n"
   ]
  },
  {
   "cell_type": "code",
   "execution_count": null,
   "id": "43af6220-18db-402f-8afb-d7dbccf7bd1f",
   "metadata": {},
   "outputs": [],
   "source": []
  }
 ],
 "metadata": {
  "kernelspec": {
   "display_name": "Python 3 (ipykernel)",
   "language": "python",
   "name": "python3"
  },
  "language_info": {
   "codemirror_mode": {
    "name": "ipython",
    "version": 3
   },
   "file_extension": ".py",
   "mimetype": "text/x-python",
   "name": "python",
   "nbconvert_exporter": "python",
   "pygments_lexer": "ipython3",
   "version": "3.10.8"
  }
 },
 "nbformat": 4,
 "nbformat_minor": 5
}
